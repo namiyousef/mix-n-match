{
 "cells": [
  {
   "cell_type": "code",
   "execution_count": 1,
   "metadata": {},
   "outputs": [],
   "source": [
    "import polars as pl\n",
    "from memory_profiler import memory_usage\n",
    "import time\n",
    "from functools import partial"
   ]
  },
  {
   "cell_type": "code",
   "execution_count": 2,
   "metadata": {},
   "outputs": [],
   "source": [
    "def determine_scalability(func, num_repetitions):\n",
    "    times = []\n",
    "    memories = []\n",
    "    for i in range(num_repetitions):\n",
    "        s = time.time()\n",
    "        mem_usage = memory_usage(func)\n",
    "        e = time.time()\n",
    "        time_taken = e - s\n",
    "        max_memory = max(mem_usage)\n",
    "        times.append(time_taken)\n",
    "        memories.append(max_memory)\n",
    "    return times, memories\n"
   ]
  },
  {
   "cell_type": "code",
   "execution_count": 42,
   "metadata": {},
   "outputs": [],
   "source": [
    "def rolling_from_expression(lazy_df, num_points):\n",
    "    original_cols = lazy_df.columns\n",
    "    expressions = [\n",
    "        (\n",
    "            pl.sum(\"value\")\n",
    "            .rolling(\"index\", period=\"1i\", offset=f\"{lag}i\")\n",
    "            .sum()\n",
    "            .alias(f\"{lag}\")\n",
    "        )  for lag in range(num_points)\n",
    "    ]\n",
    "    output = (\n",
    "        lazy_df\n",
    "        .with_columns(expressions)\n",
    "        .first()\n",
    "    )\n",
    "    output = list(output.collect().select(pl.exclude(original_cols)).row(0))\n",
    "    return output\n",
    "\n",
    "def rolling_from_for_loop(lazy_df, num_points):\n",
    "    totals = []\n",
    "    for lag in range(num_points):\n",
    "        total = lazy_df.rolling(\"index\", period=f\"1i\", offset=f\"{lag}i\").agg(\n",
    "            pl.sum(\"value\")\n",
    "        ).select(pl.sum(\"value\")).collect().item()\n",
    "        totals.append(total)\n",
    "    return totals"
   ]
  },
  {
   "cell_type": "code",
   "execution_count": 43,
   "metadata": {},
   "outputs": [],
   "source": [
    "def create_df(num_rows):\n",
    "    value_range =pl.int_range(0, num_rows)\n",
    "    lazy_df = pl.LazyFrame().with_columns(index=value_range, value=value_range)\n",
    "    return lazy_df"
   ]
  },
  {
   "cell_type": "code",
   "execution_count": 44,
   "metadata": {},
   "outputs": [],
   "source": [
    "lazy_df = create_df(100)\n",
    "lag = 98\n",
    "'''print(lazy_df.rolling(\"index\", period=f\"1i\", offset=f\"{lag}i\").agg(\n",
    "    pl.sum(\"value\")\n",
    ").collect())\n",
    "\n",
    "\n",
    "print(lazy_df.with_columns(pl.sum(\"value\").rolling(\"index\", period=\"1i\", offset=f\"{lag}i\")).collect())\n",
    "'''\n",
    "expr = rolling_from_expression(lazy_df, lag)\n",
    "loop = rolling_from_for_loop(lazy_df, lag)"
   ]
  },
  {
   "cell_type": "code",
   "execution_count": 52,
   "metadata": {},
   "outputs": [],
   "source": [
    "num_points = [\n",
    "    1000,\n",
    "    2000,\n",
    "    3000,\n",
    "    4000,\n",
    "    5000,\n",
    "    6000,\n",
    "    7000,\n",
    "    8000,\n",
    "    9000,\n",
    "    10000,\n",
    "    #50000, 100000, 500000, 1000000\n",
    "]\n",
    "\n",
    "num_iterations = 3\n",
    "\n",
    "def collect_times_and_memory(function, num_points, num_iterations):\n",
    "    data_structure = {}\n",
    "    for num_rows in num_points:\n",
    "        lazy_df = create_df(num_rows)\n",
    "        for num_cols in num_points:\n",
    "            if num_cols > num_rows:\n",
    "                break\n",
    "            func = partial(function, lazy_df=lazy_df, num_points=num_cols)\n",
    "            times, memories = determine_scalability(func, num_iterations)\n",
    "            total_time = sum(times)\n",
    "            avg_time = total_time / num_iterations\n",
    "            max_memory = max(memories)\n",
    "            avg_memory = sum(memories) / num_iterations\n",
    "            data_structure[(num_rows, num_cols)] = {\n",
    "                \"memory\": avg_memory,\n",
    "                \"time\": avg_time\n",
    "            }\n",
    "            print(f\"Completed {num_rows} vs. {num_cols} in {total_time:.3g} seconds...\")\n",
    "    return data_structure\n",
    "\n",
    "\n"
   ]
  },
  {
   "cell_type": "code",
   "execution_count": 53,
   "metadata": {},
   "outputs": [],
   "source": [
    "import matplotlib.pyplot as plt\n",
    "import numpy as np\n",
    "import seaborn as sns\n",
    "\n",
    "def generate_matrices_and_plot(data_structure):\n",
    "    time_matrix = np.zeros((len(num_points), len(num_points)))\n",
    "    memory_matrix = np.zeros((len(num_points), len(num_points)))\n",
    "    val_to_index = {val: i for i, val in enumerate(num_points)}\n",
    "    for key in data_structure:\n",
    "        i, j = val_to_index[key[0]], val_to_index[key[1]]\n",
    "        time_matrix[i, j] = data_structure[key][\"time\"]\n",
    "        memory_matrix[i, j] = data_structure[key][\"memory\"]\n",
    "    labels = [str(val) for val in num_points]\n",
    "    plt.figure()\n",
    "    sns.heatmap(time_matrix, annot=True, xticklabels=labels, yticklabels=labels)\n",
    "    plt.figure()\n",
    "    sns.heatmap(memory_matrix/1024, annot=True, xticklabels=labels, yticklabels=labels)"
   ]
  },
  {
   "cell_type": "code",
   "execution_count": 48,
   "metadata": {},
   "outputs": [
    {
     "name": "stdout",
     "output_type": "stream",
     "text": [
      "Completed 1000 vs. 1000 in 4.37 seconds...\n",
      "Completed 2000 vs. 1000 in 2.54 seconds...\n",
      "Completed 2000 vs. 2000 in 5.28 seconds...\n",
      "Completed 3000 vs. 1000 in 3.58 seconds...\n"
     ]
    },
    {
     "ename": "KeyboardInterrupt",
     "evalue": "",
     "output_type": "error",
     "traceback": [
      "\u001b[0;31m---------------------------------------------------------------------------\u001b[0m",
      "\u001b[0;31mKeyboardInterrupt\u001b[0m                         Traceback (most recent call last)",
      "Cell \u001b[0;32mIn[48], line 1\u001b[0m\n\u001b[0;32m----> 1\u001b[0m rolling_from_expression_data \u001b[39m=\u001b[39m collect_times_and_memory(rolling_from_expression, num_points, num_iterations)\n\u001b[1;32m      2\u001b[0m generate_matrices_and_plot(rolling_from_expression_data)\n",
      "Cell \u001b[0;32mIn[45], line 25\u001b[0m, in \u001b[0;36mcollect_times_and_memory\u001b[0;34m(function, num_points, num_iterations)\u001b[0m\n\u001b[1;32m     23\u001b[0m     \u001b[39mbreak\u001b[39;00m\n\u001b[1;32m     24\u001b[0m func \u001b[39m=\u001b[39m partial(function, lazy_df\u001b[39m=\u001b[39mlazy_df, num_points\u001b[39m=\u001b[39mnum_cols)\n\u001b[0;32m---> 25\u001b[0m times, memories \u001b[39m=\u001b[39m determine_scalability(func, num_iterations)\n\u001b[1;32m     26\u001b[0m total_time \u001b[39m=\u001b[39m \u001b[39msum\u001b[39m(times)\n\u001b[1;32m     27\u001b[0m avg_time \u001b[39m=\u001b[39m total_time \u001b[39m/\u001b[39m num_iterations\n",
      "Cell \u001b[0;32mIn[2], line 6\u001b[0m, in \u001b[0;36mdetermine_scalability\u001b[0;34m(func, num_repetitions)\u001b[0m\n\u001b[1;32m      4\u001b[0m \u001b[39mfor\u001b[39;00m i \u001b[39min\u001b[39;00m \u001b[39mrange\u001b[39m(num_repetitions):\n\u001b[1;32m      5\u001b[0m     s \u001b[39m=\u001b[39m time\u001b[39m.\u001b[39mtime()\n\u001b[0;32m----> 6\u001b[0m     mem_usage \u001b[39m=\u001b[39m memory_usage(func)\n\u001b[1;32m      7\u001b[0m     e \u001b[39m=\u001b[39m time\u001b[39m.\u001b[39mtime()\n\u001b[1;32m      8\u001b[0m     time_taken \u001b[39m=\u001b[39m e \u001b[39m-\u001b[39m s\n",
      "File \u001b[0;32m~/Desktop/Main/2.Personal/MyStuff/2.Extracurriculars/Coding/DataScience/Repositories/mix-n-match/venv/lib/python3.10/site-packages/memory_profiler.py:379\u001b[0m, in \u001b[0;36mmemory_usage\u001b[0;34m(proc, interval, timeout, timestamps, include_children, multiprocess, max_usage, retval, stream, backend, max_iterations)\u001b[0m\n\u001b[1;32m    376\u001b[0m \u001b[39m# When there is an exception in the \"proc\" - the (spawned) monitoring processes don't get killed.\u001b[39;00m\n\u001b[1;32m    377\u001b[0m \u001b[39m# Therefore, the whole process hangs indefinitely. Here, we are ensuring that the process gets killed!\u001b[39;00m\n\u001b[1;32m    378\u001b[0m \u001b[39mtry\u001b[39;00m:\n\u001b[0;32m--> 379\u001b[0m     returned \u001b[39m=\u001b[39m f(\u001b[39m*\u001b[39;49margs, \u001b[39m*\u001b[39;49m\u001b[39m*\u001b[39;49mkw)\n\u001b[1;32m    380\u001b[0m     parent_conn\u001b[39m.\u001b[39msend(\u001b[39m0\u001b[39m)  \u001b[39m# finish timing\u001b[39;00m\n\u001b[1;32m    381\u001b[0m     ret \u001b[39m=\u001b[39m parent_conn\u001b[39m.\u001b[39mrecv()\n",
      "Cell \u001b[0;32mIn[42], line 16\u001b[0m, in \u001b[0;36mrolling_from_expression\u001b[0;34m(lazy_df, num_points)\u001b[0m\n\u001b[1;32m      3\u001b[0m expressions \u001b[39m=\u001b[39m [\n\u001b[1;32m      4\u001b[0m     (\n\u001b[1;32m      5\u001b[0m         pl\u001b[39m.\u001b[39msum(\u001b[39m\"\u001b[39m\u001b[39mvalue\u001b[39m\u001b[39m\"\u001b[39m)\n\u001b[0;32m   (...)\u001b[0m\n\u001b[1;32m      9\u001b[0m     )  \u001b[39mfor\u001b[39;00m lag \u001b[39min\u001b[39;00m \u001b[39mrange\u001b[39m(num_points)\n\u001b[1;32m     10\u001b[0m ]\n\u001b[1;32m     11\u001b[0m output \u001b[39m=\u001b[39m (\n\u001b[1;32m     12\u001b[0m     lazy_df\n\u001b[1;32m     13\u001b[0m     \u001b[39m.\u001b[39mwith_columns(expressions)\n\u001b[1;32m     14\u001b[0m     \u001b[39m.\u001b[39mfirst()\n\u001b[1;32m     15\u001b[0m )\n\u001b[0;32m---> 16\u001b[0m output \u001b[39m=\u001b[39m \u001b[39mlist\u001b[39m(output\u001b[39m.\u001b[39;49mcollect()\u001b[39m.\u001b[39mselect(pl\u001b[39m.\u001b[39mexclude(original_cols))\u001b[39m.\u001b[39mrow(\u001b[39m0\u001b[39m))\n\u001b[1;32m     17\u001b[0m \u001b[39mreturn\u001b[39;00m output\n",
      "File \u001b[0;32m~/Desktop/Main/2.Personal/MyStuff/2.Extracurriculars/Coding/DataScience/Repositories/mix-n-match/venv/lib/python3.10/site-packages/polars/utils/deprecation.py:100\u001b[0m, in \u001b[0;36mdeprecate_renamed_parameter.<locals>.decorate.<locals>.wrapper\u001b[0;34m(*args, **kwargs)\u001b[0m\n\u001b[1;32m     95\u001b[0m \u001b[39m@wraps\u001b[39m(function)\n\u001b[1;32m     96\u001b[0m \u001b[39mdef\u001b[39;00m \u001b[39mwrapper\u001b[39m(\u001b[39m*\u001b[39margs: P\u001b[39m.\u001b[39margs, \u001b[39m*\u001b[39m\u001b[39m*\u001b[39mkwargs: P\u001b[39m.\u001b[39mkwargs) \u001b[39m-\u001b[39m\u001b[39m>\u001b[39m T:\n\u001b[1;32m     97\u001b[0m     _rename_keyword_argument(\n\u001b[1;32m     98\u001b[0m         old_name, new_name, kwargs, function\u001b[39m.\u001b[39m\u001b[39m__name__\u001b[39m, version\n\u001b[1;32m     99\u001b[0m     )\n\u001b[0;32m--> 100\u001b[0m     \u001b[39mreturn\u001b[39;00m function(\u001b[39m*\u001b[39;49margs, \u001b[39m*\u001b[39;49m\u001b[39m*\u001b[39;49mkwargs)\n",
      "File \u001b[0;32m~/Desktop/Main/2.Personal/MyStuff/2.Extracurriculars/Coding/DataScience/Repositories/mix-n-match/venv/lib/python3.10/site-packages/polars/lazyframe/frame.py:1787\u001b[0m, in \u001b[0;36mLazyFrame.collect\u001b[0;34m(self, type_coercion, predicate_pushdown, projection_pushdown, simplify_expression, slice_pushdown, comm_subplan_elim, comm_subexpr_elim, no_optimization, streaming, _eager)\u001b[0m\n\u001b[1;32m   1774\u001b[0m     comm_subplan_elim \u001b[39m=\u001b[39m \u001b[39mFalse\u001b[39;00m\n\u001b[1;32m   1776\u001b[0m ldf \u001b[39m=\u001b[39m \u001b[39mself\u001b[39m\u001b[39m.\u001b[39m_ldf\u001b[39m.\u001b[39moptimization_toggle(\n\u001b[1;32m   1777\u001b[0m     type_coercion,\n\u001b[1;32m   1778\u001b[0m     predicate_pushdown,\n\u001b[0;32m   (...)\u001b[0m\n\u001b[1;32m   1785\u001b[0m     _eager,\n\u001b[1;32m   1786\u001b[0m )\n\u001b[0;32m-> 1787\u001b[0m \u001b[39mreturn\u001b[39;00m wrap_df(ldf\u001b[39m.\u001b[39;49mcollect())\n",
      "\u001b[0;31mKeyboardInterrupt\u001b[0m: "
     ]
    }
   ],
   "source": [
    "rolling_from_expression_data = collect_times_and_memory(rolling_from_expression, num_points, num_iterations)\n",
    "generate_matrices_and_plot(rolling_from_expression_data)"
   ]
  },
  {
   "cell_type": "code",
   "execution_count": 51,
   "metadata": {},
   "outputs": [
    {
     "name": "stdout",
     "output_type": "stream",
     "text": [
      "Completed 1000 vs. 1000 in 3.95 seconds...\n",
      "Completed 2000 vs. 1000 in 3.22 seconds...\n",
      "Completed 2000 vs. 2000 in 4.46 seconds...\n"
     ]
    },
    {
     "data": {
      "image/png": "[encoded data removed]",
      "text/plain": [
       "<Figure size 640x480 with 2 Axes>"
      ]
     },
     "metadata": {},
     "output_type": "display_data"
    },
    {
     "data": {
      "image/png": "[encoded data removed]",
      "text/plain": [
       "<Figure size 640x480 with 2 Axes>"
      ]
     },
     "metadata": {},
     "output_type": "display_data"
    }
   ],
   "source": [
    "rolling_from_for_loop_data = collect_times_and_memory(rolling_from_for_loop, num_points, num_iterations)\n",
    "generate_matrices_and_plot(rolling_from_for_loop_data)"
   ]
  },
  {
   "cell_type": "code",
   "execution_count": 26,
   "metadata": {},
   "outputs": [
    {
     "data": {
      "text/html": [
       "<div><style>\n",
       ".dataframe > thead > tr > th,\n",
       ".dataframe > tbody > tr > td {\n",
       "  text-align: right;\n",
       "  white-space: pre-wrap;\n",
       "}\n",
       "</style>\n",
       "<small>shape: (100, 2)</small><table border=\"1\" class=\"dataframe\"><thead><tr><th>index</th><th>test</th></tr><tr><td>i64</td><td>i64</td></tr></thead><tbody><tr><td>0</td><td>5</td></tr><tr><td>1</td><td>7</td></tr><tr><td>2</td><td>9</td></tr><tr><td>3</td><td>11</td></tr><tr><td>4</td><td>13</td></tr><tr><td>5</td><td>15</td></tr><tr><td>6</td><td>17</td></tr><tr><td>7</td><td>19</td></tr><tr><td>8</td><td>21</td></tr><tr><td>9</td><td>23</td></tr><tr><td>10</td><td>25</td></tr><tr><td>11</td><td>27</td></tr><tr><td>&hellip;</td><td>&hellip;</td></tr><tr><td>88</td><td>181</td></tr><tr><td>89</td><td>183</td></tr><tr><td>90</td><td>185</td></tr><tr><td>91</td><td>187</td></tr><tr><td>92</td><td>189</td></tr><tr><td>93</td><td>191</td></tr><tr><td>94</td><td>193</td></tr><tr><td>95</td><td>195</td></tr><tr><td>96</td><td>197</td></tr><tr><td>97</td><td>99</td></tr><tr><td>98</td><td>null</td></tr><tr><td>99</td><td>null</td></tr></tbody></table></div>"
      ],
      "text/plain": [
       "shape: (100, 2)\n",
       "┌───────┬──────┐\n",
       "│ index ┆ test │\n",
       "│ ---   ┆ ---  │\n",
       "│ i64   ┆ i64  │\n",
       "╞═══════╪══════╡\n",
       "│ 0     ┆ 5    │\n",
       "│ 1     ┆ 7    │\n",
       "│ 2     ┆ 9    │\n",
       "│ 3     ┆ 11   │\n",
       "│ …     ┆ …    │\n",
       "│ 96    ┆ 197  │\n",
       "│ 97    ┆ 99   │\n",
       "│ 98    ┆ null │\n",
       "│ 99    ┆ null │\n",
       "└───────┴──────┘"
      ]
     },
     "execution_count": 26,
     "metadata": {},
     "output_type": "execute_result"
    }
   ],
   "source": [
    "lazy_df = create_df(100)\n",
    "rolling_obj = lazy_df.rolling(\"index\", offset=\"2i\", period=\"1i\", closed=\"both\").agg(pl.col(\"value\").sum().alias(\"test\"))\n",
    "rolling_obj.collect()"
   ]
  },
  {
   "cell_type": "code",
   "execution_count": 41,
   "metadata": {},
   "outputs": [
    {
     "ename": "AttributeError",
     "evalue": "module 'polars' has no attribute 'agg_groups'",
     "output_type": "error",
     "traceback": [
      "\u001b[0;31m---------------------------------------------------------------------------\u001b[0m",
      "\u001b[0;31mAttributeError\u001b[0m                            Traceback (most recent call last)",
      "Cell \u001b[0;32mIn[41], line 13\u001b[0m\n\u001b[1;32m     10\u001b[0m period \u001b[39m=\u001b[39m \u001b[39m2\u001b[39m\u001b[39m*\u001b[39mdelta\n\u001b[1;32m     12\u001b[0m df \u001b[39m=\u001b[39m df\u001b[39m.\u001b[39msort(\u001b[39m\"\u001b[39m\u001b[39mx\u001b[39m\u001b[39m\"\u001b[39m)\n\u001b[0;32m---> 13\u001b[0m rolling_obj \u001b[39m=\u001b[39m df\u001b[39m.\u001b[39mrolling(\u001b[39m\"\u001b[39m\u001b[39mx\u001b[39m\u001b[39m\"\u001b[39m, offset\u001b[39m=\u001b[39m\u001b[39mf\u001b[39m\u001b[39m\"\u001b[39m\u001b[39m{\u001b[39;00moffset\u001b[39m}\u001b[39;00m\u001b[39mi\u001b[39m\u001b[39m\"\u001b[39m, period\u001b[39m=\u001b[39m\u001b[39mf\u001b[39m\u001b[39m\"\u001b[39m\u001b[39m{\u001b[39;00mperiod\u001b[39m}\u001b[39;00m\u001b[39mi\u001b[39m\u001b[39m\"\u001b[39m, closed\u001b[39m=\u001b[39m\u001b[39m\"\u001b[39m\u001b[39mboth\u001b[39m\u001b[39m\"\u001b[39m)\u001b[39m.\u001b[39magg(test\u001b[39m=\u001b[39m((pl\u001b[39m.\u001b[39mcol(\u001b[39m\"\u001b[39m\u001b[39mvalue\u001b[39m\u001b[39m\"\u001b[39m) \u001b[39m-\u001b[39m pl\u001b[39m.\u001b[39mcol(\u001b[39m\"\u001b[39m\u001b[39mx\u001b[39m\u001b[39m\"\u001b[39m))), test2\u001b[39m=\u001b[39mpl\u001b[39m.\u001b[39;49magg_groups())\n\u001b[1;32m     14\u001b[0m rolling_obj\n",
      "\u001b[0;31mAttributeError\u001b[0m: module 'polars' has no attribute 'agg_groups'"
     ]
    }
   ],
   "source": [
    "df = pl.DataFrame({\n",
    "    \"x\": [1,2,3,4,5,6,7,8,9,10],\n",
    "    \"value\": [1,2,3,4,5,6,7,8,9,10]\n",
    "})\n",
    "\n",
    "lag = 2\n",
    "delta = 1\n",
    "\n",
    "offset = lag - delta\n",
    "period = 2*delta\n",
    "\n",
    "df = df.sort(\"x\")\n",
    "rolling_obj = df.rolling(\"x\", offset=f\"{offset}i\", period=f\"{period}i\", closed=\"both\").agg(test=((pl.col(\"value\") - pl.col(\"x\"))), test2=pl.agg_groups())\n",
    "rolling_obj"
   ]
  },
  {
   "cell_type": "code",
   "execution_count": null,
   "metadata": {},
   "outputs": [],
   "source": []
  }
 ],
 "metadata": {
  "kernelspec": {
   "display_name": "venv",
   "language": "python",
   "name": "python3"
  },
  "language_info": {
   "codemirror_mode": {
    "name": "ipython",
    "version": 3
   },
   "file_extension": ".py",
   "mimetype": "text/x-python",
   "name": "python",
   "nbconvert_exporter": "python",
   "pygments_lexer": "ipython3",
   "version": "3.10.11"
  },
  "orig_nbformat": 4,
  "vscode": {
   "interpreter": {
    "hash": "fec4713389edf8e20a5a9f3ad6383faf9d72775e63b3bd355ff20d1f67cc830a"
   }
  }
 },
 "nbformat": 4,
 "nbformat_minor": 2
}
